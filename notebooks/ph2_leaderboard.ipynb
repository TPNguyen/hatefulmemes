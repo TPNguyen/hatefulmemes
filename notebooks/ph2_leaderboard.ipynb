{
 "cells": [
  {
   "cell_type": "code",
   "execution_count": 1,
   "metadata": {},
   "outputs": [],
   "source": [
    "import pandas as pd\n",
    "\n",
    "df_test_unseen = pd.read_json('/path/to/data/test_unseen.jsonl', lines=True)\n",
    "\n",
    "df_2101_test = pd.read_csv('/path/to/UNITER/output/seed_0/results/test_results_1140_rank0.csv').add_prefix('uniter_large_pa_0_')\n",
    "df_2102_test = pd.read_csv('/path/to/UNITER/output/seed_24/results/test_results_1140_rank0.csv').add_prefix('uniter_large_pa_24_')\n",
    "df_2103_test = pd.read_csv('/path/to/UNITER/output/seed_42/results/test_results_1140_rank0.csv').add_prefix('uniter_large_pa_42_')\n",
    "df_2104_test = pd.read_csv('/path/to/UNITER/output/seed_77/results/test_results_1140_rank0.csv').add_prefix('uniter_large_pa_77_')\n",
    "df_2105_test = pd.read_csv('/path/to/UNITER/output/seed_2018/results/test_results_1140_rank0.csv').add_prefix('uniter_large_pa_2018_')\n",
    "df_2106_test = pd.read_csv('/path/to/UNITER/output/seed_12345/results/test_results_1140_rank0.csv').add_prefix('uniter_large_pa_12345_')\n",
    "df_2107_test = pd.read_csv('/path/to/UNITER/output/seed_32768/results/test_results_1140_rank0.csv').add_prefix('uniter_large_pa_32768_')\n",
    "df_2108_test = pd.read_csv('/path/to/UNITER/output/seed_54321/results/test_results_1140_rank0.csv').add_prefix('uniter_large_pa_54321_')\n",
    "df_2109_test = pd.read_csv('/path/to/UNITER/output/seed_10101010/results/test_results_1140_rank0.csv').add_prefix('uniter_large_pa_10101010_')\n",
    "df_2110_test = pd.read_csv('/path/to/UNITER/output/seed_20200905/results/test_results_1140_rank0.csv').add_prefix('uniter_large_pa_20200905_')\n",
    "df_2111_test = pd.read_csv('/path/to/UNITER/output/seed_55555555/results/test_results_1140_rank0.csv').add_prefix('uniter_large_pa_55555555_')\n",
    "df_2112_test = pd.read_csv('/path/to/UNITER/output/seed_2147483647/results/test_results_1140_rank0.csv').add_prefix('uniter_large_pa_2147483647_')\n",
    "\n",
    "keep_columns =  [\n",
    "    'uniter_large_pa_0_id', \n",
    "\n",
    "    'uniter_large_pa_0_proba', \n",
    "    'uniter_large_pa_24_proba', \n",
    "    'uniter_large_pa_42_proba', \n",
    "    'uniter_large_pa_77_proba', \n",
    "    'uniter_large_pa_2018_proba', \n",
    "    'uniter_large_pa_12345_proba', \n",
    "    'uniter_large_pa_32768_proba', \n",
    "    'uniter_large_pa_54321_proba', \n",
    "    'uniter_large_pa_10101010_proba', \n",
    "    'uniter_large_pa_20200905_proba', \n",
    "    'uniter_large_pa_55555555_proba', \n",
    "    'uniter_large_pa_2147483647_proba'\n",
    "]\n",
    "features = list(set(keep_columns) - set(['uniter_large_pa_0_id']))\n",
    "\n",
    "df_concat_test = pd.concat([df_2101_test, df_2102_test, df_2103_test, df_2104_test, df_2105_test, df_2106_test, df_2107_test, df_2108_test, df_2109_test, df_2110_test, df_2111_test, df_2112_test,], axis=1)[keep_columns]\n",
    "df_ensemble_test = df_concat_test.merge(df_test_unseen[['id']], left_on='uniter_large_pa_0_id', right_on='id')\n",
    "\n",
    "df_blending_sb = pd.DataFrame(df_test_unseen['id'])\n",
    "df_blending_sb['proba'] = df_ensemble_test[features].mean(axis=1).round(6)\n",
    "df_blending_sb['label'] = (df_blending_sb['proba'] > .5).astype(int)\n",
    "df_blending_sb['id'] = df_blending_sb['id'].astype(str)\n",
    "df_blending_sb['id'] = df_blending_sb.apply(lambda x: (\"0\" + str(x['id'])) if len(str(x['id'])) == 4 else str(x['id']), axis=1)\n",
    "\n",
    "df_blending_sb.to_csv('ph2_leaderboard.csv', index=False, float_format='%.6f')"
   ]
  }
 ],
 "metadata": {
  "kernelspec": {
   "display_name": "Python 3",
   "language": "python",
   "name": "python3"
  },
  "language_info": {
   "codemirror_mode": {
    "name": "ipython",
    "version": 3
   },
   "file_extension": ".py",
   "mimetype": "text/x-python",
   "name": "python",
   "nbconvert_exporter": "python",
   "pygments_lexer": "ipython3",
   "version": "3.8.3"
  }
 },
 "nbformat": 4,
 "nbformat_minor": 4
}