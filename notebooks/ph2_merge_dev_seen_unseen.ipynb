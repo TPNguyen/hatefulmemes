{
 "cells": [
  {
   "cell_type": "code",
   "execution_count": null,
   "metadata": {},
   "outputs": [],
   "source": [
    "import pandas as pd\n",
    "\n",
    "df_val_seen = pd.read_json('/path/to/data/dev_seen.jsonl', lines=True)\n",
    "df_val_unseen = pd.read_json('/path/to/data/dev_unseen.jsonl', lines=True)\n",
    "df_val_merged = df_val_seen.merge(df_val_unseen, how='outer')\n",
    "\n",
    "# make sure starting 0s in the ids don't get removed \n",
    "df_val_merged.apply(lambda x: (\"0\" + str(x['id'])) if len(str(x['id'])) == 4 else str(x['id']), axis=1)\n",
    "df_val_merged.to_json('/path/to/data/dev_seen_unseen.jsonl', orient='records', lines=True)"
   ]
  }
 ],
 "metadata": {
  "kernelspec": {
   "display_name": "Python 3",
   "language": "python",
   "name": "python3"
  },
  "language_info": {
   "codemirror_mode": {
    "name": "ipython",
    "version": 3
   },
   "file_extension": ".py",
   "mimetype": "text/x-python",
   "name": "python",
   "nbconvert_exporter": "python",
   "pygments_lexer": "ipython3",
   "version": "3.8.3"
  }
 },
 "nbformat": 4,
 "nbformat_minor": 4
}